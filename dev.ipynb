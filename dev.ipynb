{
 "cells": [
  {
   "cell_type": "code",
   "execution_count": 1,
   "id": "2b49c45d-d6cc-4e51-a557-c9f4f214246e",
   "metadata": {},
   "outputs": [
    {
     "name": "stdout",
     "output_type": "stream",
     "text": [
      "3.10.17 | packaged by conda-forge | (main, Apr 10 2025, 22:19:12) [GCC 13.3.0]\n"
     ]
    }
   ],
   "source": [
    "import sys\n",
    "print(sys.version)  # broai supports python3.10.17"
   ]
  },
  {
   "cell_type": "code",
   "execution_count": 2,
   "id": "b5c9c459-02eb-4673-a544-807176ef076a",
   "metadata": {},
   "outputs": [],
   "source": [
    "from workshop.workshop import hello_workshop"
   ]
  },
  {
   "cell_type": "code",
   "execution_count": 3,
   "id": "1e1e490b-6a7b-49c0-9e41-67e1d65ffb90",
   "metadata": {},
   "outputs": [
    {
     "data": {
      "text/plain": [
       "'Hello Workshop'"
      ]
     },
     "execution_count": 3,
     "metadata": {},
     "output_type": "execute_result"
    }
   ],
   "source": [
    "hello_workshop()"
   ]
  },
  {
   "cell_type": "code",
   "execution_count": null,
   "id": "f874a0f6-c148-4cc3-bab0-59310a7a38fd",
   "metadata": {},
   "outputs": [],
   "source": []
  }
 ],
 "metadata": {
  "kernelspec": {
   "display_name": "workshop",
   "language": "python",
   "name": "workshop"
  },
  "language_info": {
   "codemirror_mode": {
    "name": "ipython",
    "version": 3
   },
   "file_extension": ".py",
   "mimetype": "text/x-python",
   "name": "python",
   "nbconvert_exporter": "python",
   "pygments_lexer": "ipython3",
   "version": "3.10.17"
  }
 },
 "nbformat": 4,
 "nbformat_minor": 5
}
