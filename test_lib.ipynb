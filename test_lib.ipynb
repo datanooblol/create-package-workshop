{
 "cells": [
  {
   "cell_type": "code",
   "execution_count": 1,
   "id": "64302459-9fc2-4551-b977-5c0695ae99b3",
   "metadata": {},
   "outputs": [
    {
     "name": "stdout",
     "output_type": "stream",
     "text": [
      "Collecting create-package-workshop\n",
      "  Downloading create_package_workshop-0.1.0-py3-none-any.whl.metadata (399 bytes)\n",
      "Requirement already satisfied: ipykernel>=6.29.5 in /home/ec2-user/anaconda3/envs/python3/lib/python3.10/site-packages (from create-package-workshop) (6.29.5)\n",
      "Requirement already satisfied: matplotlib>=3.10.1 in /home/ec2-user/anaconda3/envs/python3/lib/python3.10/site-packages (from create-package-workshop) (3.10.1)\n",
      "Requirement already satisfied: plotly>=6.0.1 in /home/ec2-user/anaconda3/envs/python3/lib/python3.10/site-packages (from create-package-workshop) (6.0.1)\n",
      "Requirement already satisfied: scikit-learn>=1.6.1 in /home/ec2-user/anaconda3/envs/python3/lib/python3.10/site-packages (from create-package-workshop) (1.6.1)\n",
      "Requirement already satisfied: seaborn>=0.13.2 in /home/ec2-user/anaconda3/envs/python3/lib/python3.10/site-packages (from create-package-workshop) (0.13.2)\n",
      "Requirement already satisfied: comm>=0.1.1 in /home/ec2-user/anaconda3/envs/python3/lib/python3.10/site-packages (from ipykernel>=6.29.5->create-package-workshop) (0.2.2)\n",
      "Requirement already satisfied: debugpy>=1.6.5 in /home/ec2-user/anaconda3/envs/python3/lib/python3.10/site-packages (from ipykernel>=6.29.5->create-package-workshop) (1.8.14)\n",
      "Requirement already satisfied: ipython>=7.23.1 in /home/ec2-user/anaconda3/envs/python3/lib/python3.10/site-packages (from ipykernel>=6.29.5->create-package-workshop) (8.35.0)\n",
      "Requirement already satisfied: jupyter-client>=6.1.12 in /home/ec2-user/anaconda3/envs/python3/lib/python3.10/site-packages (from ipykernel>=6.29.5->create-package-workshop) (8.6.3)\n",
      "Requirement already satisfied: jupyter-core!=5.0.*,>=4.12 in /home/ec2-user/anaconda3/envs/python3/lib/python3.10/site-packages (from ipykernel>=6.29.5->create-package-workshop) (5.7.2)\n",
      "Requirement already satisfied: matplotlib-inline>=0.1 in /home/ec2-user/anaconda3/envs/python3/lib/python3.10/site-packages (from ipykernel>=6.29.5->create-package-workshop) (0.1.7)\n",
      "Requirement already satisfied: nest-asyncio in /home/ec2-user/anaconda3/envs/python3/lib/python3.10/site-packages (from ipykernel>=6.29.5->create-package-workshop) (1.6.0)\n",
      "Requirement already satisfied: packaging in /home/ec2-user/anaconda3/envs/python3/lib/python3.10/site-packages (from ipykernel>=6.29.5->create-package-workshop) (24.2)\n",
      "Requirement already satisfied: psutil in /home/ec2-user/anaconda3/envs/python3/lib/python3.10/site-packages (from ipykernel>=6.29.5->create-package-workshop) (6.1.1)\n",
      "Requirement already satisfied: pyzmq>=24 in /home/ec2-user/anaconda3/envs/python3/lib/python3.10/site-packages (from ipykernel>=6.29.5->create-package-workshop) (26.4.0)\n",
      "Requirement already satisfied: tornado>=6.1 in /home/ec2-user/anaconda3/envs/python3/lib/python3.10/site-packages (from ipykernel>=6.29.5->create-package-workshop) (6.4.2)\n",
      "Requirement already satisfied: traitlets>=5.4.0 in /home/ec2-user/anaconda3/envs/python3/lib/python3.10/site-packages (from ipykernel>=6.29.5->create-package-workshop) (5.14.3)\n",
      "Requirement already satisfied: contourpy>=1.0.1 in /home/ec2-user/anaconda3/envs/python3/lib/python3.10/site-packages (from matplotlib>=3.10.1->create-package-workshop) (1.3.2)\n",
      "Requirement already satisfied: cycler>=0.10 in /home/ec2-user/anaconda3/envs/python3/lib/python3.10/site-packages (from matplotlib>=3.10.1->create-package-workshop) (0.12.1)\n",
      "Requirement already satisfied: fonttools>=4.22.0 in /home/ec2-user/anaconda3/envs/python3/lib/python3.10/site-packages (from matplotlib>=3.10.1->create-package-workshop) (4.57.0)\n",
      "Requirement already satisfied: kiwisolver>=1.3.1 in /home/ec2-user/anaconda3/envs/python3/lib/python3.10/site-packages (from matplotlib>=3.10.1->create-package-workshop) (1.4.7)\n",
      "Requirement already satisfied: numpy>=1.23 in /home/ec2-user/anaconda3/envs/python3/lib/python3.10/site-packages (from matplotlib>=3.10.1->create-package-workshop) (1.26.4)\n",
      "Requirement already satisfied: pillow>=8 in /home/ec2-user/anaconda3/envs/python3/lib/python3.10/site-packages (from matplotlib>=3.10.1->create-package-workshop) (11.2.1)\n",
      "Requirement already satisfied: pyparsing>=2.3.1 in /home/ec2-user/anaconda3/envs/python3/lib/python3.10/site-packages (from matplotlib>=3.10.1->create-package-workshop) (3.2.3)\n",
      "Requirement already satisfied: python-dateutil>=2.7 in /home/ec2-user/anaconda3/envs/python3/lib/python3.10/site-packages (from matplotlib>=3.10.1->create-package-workshop) (2.9.0.post0)\n",
      "Requirement already satisfied: narwhals>=1.15.1 in /home/ec2-user/anaconda3/envs/python3/lib/python3.10/site-packages (from plotly>=6.0.1->create-package-workshop) (1.35.0)\n",
      "Requirement already satisfied: scipy>=1.6.0 in /home/ec2-user/anaconda3/envs/python3/lib/python3.10/site-packages (from scikit-learn>=1.6.1->create-package-workshop) (1.15.2)\n",
      "Requirement already satisfied: joblib>=1.2.0 in /home/ec2-user/anaconda3/envs/python3/lib/python3.10/site-packages (from scikit-learn>=1.6.1->create-package-workshop) (1.4.2)\n",
      "Requirement already satisfied: threadpoolctl>=3.1.0 in /home/ec2-user/anaconda3/envs/python3/lib/python3.10/site-packages (from scikit-learn>=1.6.1->create-package-workshop) (3.6.0)\n",
      "Requirement already satisfied: pandas>=1.2 in /home/ec2-user/anaconda3/envs/python3/lib/python3.10/site-packages (from seaborn>=0.13.2->create-package-workshop) (1.5.3)\n",
      "Requirement already satisfied: decorator in /home/ec2-user/anaconda3/envs/python3/lib/python3.10/site-packages (from ipython>=7.23.1->ipykernel>=6.29.5->create-package-workshop) (5.2.1)\n",
      "Requirement already satisfied: exceptiongroup in /home/ec2-user/anaconda3/envs/python3/lib/python3.10/site-packages (from ipython>=7.23.1->ipykernel>=6.29.5->create-package-workshop) (1.2.2)\n",
      "Requirement already satisfied: jedi>=0.16 in /home/ec2-user/anaconda3/envs/python3/lib/python3.10/site-packages (from ipython>=7.23.1->ipykernel>=6.29.5->create-package-workshop) (0.19.2)\n",
      "Requirement already satisfied: pexpect>4.3 in /home/ec2-user/anaconda3/envs/python3/lib/python3.10/site-packages (from ipython>=7.23.1->ipykernel>=6.29.5->create-package-workshop) (4.9.0)\n",
      "Requirement already satisfied: prompt_toolkit<3.1.0,>=3.0.41 in /home/ec2-user/anaconda3/envs/python3/lib/python3.10/site-packages (from ipython>=7.23.1->ipykernel>=6.29.5->create-package-workshop) (3.0.51)\n",
      "Requirement already satisfied: pygments>=2.4.0 in /home/ec2-user/anaconda3/envs/python3/lib/python3.10/site-packages (from ipython>=7.23.1->ipykernel>=6.29.5->create-package-workshop) (2.19.1)\n",
      "Requirement already satisfied: stack_data in /home/ec2-user/anaconda3/envs/python3/lib/python3.10/site-packages (from ipython>=7.23.1->ipykernel>=6.29.5->create-package-workshop) (0.6.3)\n",
      "Requirement already satisfied: typing_extensions>=4.6 in /home/ec2-user/anaconda3/envs/python3/lib/python3.10/site-packages (from ipython>=7.23.1->ipykernel>=6.29.5->create-package-workshop) (4.13.2)\n",
      "Requirement already satisfied: platformdirs>=2.5 in /home/ec2-user/anaconda3/envs/python3/lib/python3.10/site-packages (from jupyter-core!=5.0.*,>=4.12->ipykernel>=6.29.5->create-package-workshop) (4.3.7)\n",
      "Requirement already satisfied: pytz>=2020.1 in /home/ec2-user/anaconda3/envs/python3/lib/python3.10/site-packages (from pandas>=1.2->seaborn>=0.13.2->create-package-workshop) (2025.2)\n",
      "Requirement already satisfied: six>=1.5 in /home/ec2-user/anaconda3/envs/python3/lib/python3.10/site-packages (from python-dateutil>=2.7->matplotlib>=3.10.1->create-package-workshop) (1.17.0)\n",
      "Requirement already satisfied: parso<0.9.0,>=0.8.4 in /home/ec2-user/anaconda3/envs/python3/lib/python3.10/site-packages (from jedi>=0.16->ipython>=7.23.1->ipykernel>=6.29.5->create-package-workshop) (0.8.4)\n",
      "Requirement already satisfied: ptyprocess>=0.5 in /home/ec2-user/anaconda3/envs/python3/lib/python3.10/site-packages (from pexpect>4.3->ipython>=7.23.1->ipykernel>=6.29.5->create-package-workshop) (0.7.0)\n",
      "Requirement already satisfied: wcwidth in /home/ec2-user/anaconda3/envs/python3/lib/python3.10/site-packages (from prompt_toolkit<3.1.0,>=3.0.41->ipython>=7.23.1->ipykernel>=6.29.5->create-package-workshop) (0.2.13)\n",
      "Requirement already satisfied: executing>=1.2.0 in /home/ec2-user/anaconda3/envs/python3/lib/python3.10/site-packages (from stack_data->ipython>=7.23.1->ipykernel>=6.29.5->create-package-workshop) (2.1.0)\n",
      "Requirement already satisfied: asttokens>=2.1.0 in /home/ec2-user/anaconda3/envs/python3/lib/python3.10/site-packages (from stack_data->ipython>=7.23.1->ipykernel>=6.29.5->create-package-workshop) (3.0.0)\n",
      "Requirement already satisfied: pure_eval in /home/ec2-user/anaconda3/envs/python3/lib/python3.10/site-packages (from stack_data->ipython>=7.23.1->ipykernel>=6.29.5->create-package-workshop) (0.2.3)\n",
      "Downloading create_package_workshop-0.1.0-py3-none-any.whl (2.5 kB)\n",
      "Installing collected packages: create-package-workshop\n",
      "Successfully installed create-package-workshop-0.1.0\n"
     ]
    }
   ],
   "source": [
    "!pip install create-package-workshop"
   ]
  },
  {
   "cell_type": "code",
   "execution_count": 2,
   "id": "fca1ed1f-37b6-42c0-a6d9-dbe3eb361a4e",
   "metadata": {},
   "outputs": [
    {
     "data": {
      "text/plain": [
       "2"
      ]
     },
     "execution_count": 2,
     "metadata": {},
     "output_type": "execute_result"
    }
   ],
   "source": [
    "1+1"
   ]
  },
  {
   "cell_type": "code",
   "execution_count": 3,
   "id": "893e8b6c-a533-4141-9589-504527cc39a4",
   "metadata": {},
   "outputs": [],
   "source": [
    "from workshop.workshop import hello_workshop"
   ]
  },
  {
   "cell_type": "code",
   "execution_count": 4,
   "id": "2a18c25a-3cee-4eef-950e-40b66090f382",
   "metadata": {},
   "outputs": [
    {
     "data": {
      "text/plain": [
       "'Hello Workshop'"
      ]
     },
     "execution_count": 4,
     "metadata": {},
     "output_type": "execute_result"
    }
   ],
   "source": [
    "hello_workshop()"
   ]
  },
  {
   "cell_type": "code",
   "execution_count": null,
   "id": "ef69bf29-30fd-4f46-b09d-87b01f51922d",
   "metadata": {},
   "outputs": [],
   "source": []
  }
 ],
 "metadata": {
  "kernelspec": {
   "display_name": "conda_python3",
   "language": "python",
   "name": "conda_python3"
  },
  "language_info": {
   "codemirror_mode": {
    "name": "ipython",
    "version": 3
   },
   "file_extension": ".py",
   "mimetype": "text/x-python",
   "name": "python",
   "nbconvert_exporter": "python",
   "pygments_lexer": "ipython3",
   "version": "3.10.17"
  }
 },
 "nbformat": 4,
 "nbformat_minor": 5
}
